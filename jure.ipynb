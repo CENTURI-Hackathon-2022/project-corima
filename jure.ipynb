{
 "cells": [
  {
   "cell_type": "code",
   "execution_count": 26,
   "id": "1b29d030-05f8-4acd-b5d0-0656ee300594",
   "metadata": {},
   "outputs": [
    {
     "name": "stdout",
     "output_type": "stream",
     "text": [
      "9.1.1\n"
     ]
    }
   ],
   "source": [
    "import PIL\n",
    "print(PIL.__version__)"
   ]
  },
  {
   "cell_type": "code",
   "execution_count": 11,
   "id": "7a599e2a-1a4a-4afd-a723-ffdfabe19ad3",
   "metadata": {},
   "outputs": [],
   "source": [
    "from skimage import io\n",
    "import os\n",
    "import matplotlib.pyplot as plt\n",
    "\n",
    "from PIL import Image\n",
    "from PIL.TiffTags import TAGS"
   ]
  },
  {
   "cell_type": "code",
   "execution_count": 2,
   "id": "8cd5551f-3134-4812-9f15-05ea850fd7c6",
   "metadata": {},
   "outputs": [],
   "source": [
    "img_path = os.getcwd() + '/monocytes/'\n",
    "\n",
    "# skimage\n",
    "# io.use_plugin('pil')\n",
    "# img_opt = io.imread(img_path + 'test.tif')\n",
    "# img_mec = io.imread(img_path + 'test.tif')"
   ]
  },
  {
   "cell_type": "code",
   "execution_count": 3,
   "id": "a8929c1c-5038-493c-9ded-53533ad7f16a",
   "metadata": {},
   "outputs": [
    {
     "name": "stdout",
     "output_type": "stream",
     "text": [
      "{'ImageJ': '1.53c', 'unit': '\\\\u00B5m', 'min': 0.0, 'max': 20.82308006286621, 'Info': 'ImageDescription: no info\\nSoftware: asd2tiff_GUI - Arin Marchesi modified by FR\\nDateTime: 1 ms x frame       \\n'}\n"
     ]
    }
   ],
   "source": [
    "# import tifffile\n",
    "# tif = tifffile.TiffFile(img_path + 'test.tif')\n",
    "# print(tif.imagej_metadata)\n",
    "# dir (tif)"
   ]
  },
  {
   "cell_type": "code",
   "execution_count": 5,
   "id": "e6d357c0-1677-4eba-8358-26de8922dc92",
   "metadata": {},
   "outputs": [],
   "source": [
    "# img = Image.open(img_path + 'test.tif')\n",
    "# meta_dict = {TAGS[key] : img.tag[key] for key in img.tag_v2}\n",
    "# meta_dict"
   ]
  },
  {
   "cell_type": "code",
   "execution_count": 24,
   "id": "0532e175-ccff-4f90-a802-bf677231815c",
   "metadata": {},
   "outputs": [
    {
     "name": "stdout",
     "output_type": "stream",
     "text": [
      "ImageWidth: 64\n",
      "ImageLength: 64\n",
      "BitsPerSample: 32\n",
      "Compression: 1\n",
      "PhotometricInterpretation: 1\n",
      "ResolutionUnit: 3\n",
      "ImageDescription: no info\n",
      "StripOffsets: 8\n",
      "Software: asd2tiff_GUI - Arin Marchesi modified by FR\n",
      "SampleFormat: 3\n",
      "DateTime: 1 ms x frame       \n",
      "SamplesPerPixel: 1\n",
      "RowsPerStrip: 64\n",
      "StripByteCounts: 16384\n",
      "XResolution: 21333.396059127983\n",
      "YResolution: 21333.396059127983\n",
      "PlanarConfiguration: 1\n"
     ]
    }
   ],
   "source": [
    "# Getting metadata\n",
    "\n",
    "image = Image.open(img_path + 'topo_20220107_Exp2Cell8map-data-2022.01.07-16.34.34.510_processed-2022.01.10-12.38.51.tif')\n",
    "exifdata = image.getexif()\n",
    "for tag_id in exifdata:\n",
    "    # get the tag name, instead of human unreadable tag id\n",
    "    tag = TAGS.get(tag_id, tag_id)\n",
    "    data = exifdata.get(tag_id)\n",
    "    # decode bytes\n",
    "    if isinstance(data, bytes):\n",
    "        data = data.decode()\n",
    "    print(f\"{tag}: {data}\")"
   ]
  },
  {
   "cell_type": "code",
   "execution_count": 27,
   "id": "fbc50e4a-cebe-4364-8a1d-5964fbddf5af",
   "metadata": {},
   "outputs": [
    {
     "data": {
      "text/plain": [
       "<matplotlib.image.AxesImage at 0x1984cf513f0>"
      ]
     },
     "execution_count": 27,
     "metadata": {},
     "output_type": "execute_result"
    },
    {
     "data": {
      "image/png": "[encoded data removed]",
      "text/plain": [
       "<Figure size 720x720 with 1 Axes>"
      ]
     },
     "metadata": {
      "needs_background": "light"
     },
     "output_type": "display_data"
    }
   ],
   "source": [
    "plt.figure(figsize=(10,10))\n",
    "plt.imshow(image, cmap='Greys')"
   ]
  },
  {
   "cell_type": "code",
   "execution_count": null,
   "id": "ec72361f-bfa1-4b60-bfef-9fbefad7407d",
   "metadata": {},
   "outputs": [],
   "source": []
  }
 ],
 "metadata": {
  "kernelspec": {
   "display_name": "Python 3 (ipykernel)",
   "language": "python",
   "name": "python3"
  },
  "language_info": {
   "codemirror_mode": {
    "name": "ipython",
    "version": 3
   },
   "file_extension": ".py",
   "mimetype": "text/x-python",
   "name": "python",
   "nbconvert_exporter": "python",
   "pygments_lexer": "ipython3",
   "version": "3.10.5"
  }
 },
 "nbformat": 4,
 "nbformat_minor": 5
}
