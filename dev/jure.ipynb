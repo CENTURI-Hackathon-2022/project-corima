{
 "cells": [
  {
   "cell_type": "code",
   "execution_count": 2,
   "id": "7a599e2a-1a4a-4afd-a723-ffdfabe19ad3",
   "metadata": {},
   "outputs": [],
   "source": [
    "from skimage import io"
   ]
  },
  {
   "cell_type": "code",
   "execution_count": null,
   "id": "8cd5551f-3134-4812-9f15-05ea850fd7c6",
   "metadata": {},
   "outputs": [],
   "source": [
    "img_path = '../'\n",
    "img = imread(img_path, plugin='pil')"
   ]
  },
  {
   "cell_type": "code",
   "execution_count": null,
   "id": "5acd58d6-1320-424a-b02c-6f644b80751b",
   "metadata": {},
   "outputs": [],
   "source": []
  }
 ],
 "metadata": {
  "kernelspec": {
   "display_name": "Python 3 (ipykernel)",
   "language": "python",
   "name": "python3"
  },
  "language_info": {
   "codemirror_mode": {
    "name": "ipython",
    "version": 3
   },
   "file_extension": ".py",
   "mimetype": "text/x-python",
   "name": "python",
   "nbconvert_exporter": "python",
   "pygments_lexer": "ipython3",
   "version": "3.10.5"
  }
 },
 "nbformat": 4,
 "nbformat_minor": 5
}
